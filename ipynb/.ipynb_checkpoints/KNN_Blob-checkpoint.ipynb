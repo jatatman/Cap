{
 "cells": [
  {
   "cell_type": "markdown",
   "metadata": {},
   "source": [
    "# K Nearest Neighbors"
   ]
  },
  {
   "cell_type": "code",
   "execution_count": null,
   "metadata": {},
   "outputs": [],
   "source": [
    "cd .."
   ]
  },
  {
   "cell_type": "code",
   "execution_count": null,
   "metadata": {},
   "outputs": [],
   "source": [
    "from sklearn.datasets import make_blobs\n",
    "from sklearn.datasets import load_iris\n",
    "%run lib/imports.py\n",
    "%matplotlib inline"
   ]
  },
  {
   "cell_type": "markdown",
   "metadata": {},
   "source": [
    "### Using make blobs to create an artificial data set"
   ]
  },
  {
   "cell_type": "code",
   "execution_count": null,
   "metadata": {},
   "outputs": [],
   "source": [
    "blob = make_blobs(n_samples = 10000, n_features=10, centers=25, cluster_std=4)"
   ]
  },
  {
   "cell_type": "code",
   "execution_count": null,
   "metadata": {},
   "outputs": [],
   "source": [
    "data = blob[0]\n",
    "target = blob[1]"
   ]
  },
  {
   "cell_type": "code",
   "execution_count": null,
   "metadata": {},
   "outputs": [],
   "source": [
    "\n",
    "plt.scatter(data[:,1], data[:,0], c=target)"
   ]
  },
  {
   "cell_type": "code",
   "execution_count": null,
   "metadata": {},
   "outputs": [],
   "source": [
    "from sklearn.neighbors import KNeighborsClassifier\n",
    "from sklearn.model_selection import train_test_split"
   ]
  },
  {
   "cell_type": "code",
   "execution_count": null,
   "metadata": {
    "scrolled": true
   },
   "outputs": [],
   "source": [
    "blob_X_tr, blob_X_ts, blob_y_tr, blob_y_ts = train_test_split(data, target, test_size=.5)"
   ]
  },
  {
   "cell_type": "code",
   "execution_count": null,
   "metadata": {},
   "outputs": [],
   "source": [
    "knc = KNeighborsClassifier(n_neighbors=1)"
   ]
  },
  {
   "cell_type": "code",
   "execution_count": null,
   "metadata": {},
   "outputs": [],
   "source": [
    "from lib.models.KNN import KNN"
   ]
  },
  {
   "cell_type": "markdown",
   "metadata": {},
   "source": [
    "## Score"
   ]
  },
  {
   "cell_type": "code",
   "execution_count": null,
   "metadata": {},
   "outputs": [],
   "source": [
    "knc = KNeighborsClassifier(n_neighbors=5)\n",
    "knc.fit(blob_X_tr, blob_y_tr)\n",
    "knc.score(blob_X_ts, blob_y_ts)"
   ]
  },
  {
   "cell_type": "code",
   "execution_count": null,
   "metadata": {},
   "outputs": [],
   "source": [
    "mod = KNN(neighbors=5)\n",
    "mod.fit(blob_X_tr, blob_y_tr)\n",
    "mod.score(blob_X_ts, blob_y_ts)"
   ]
  },
  {
   "cell_type": "code",
   "execution_count": null,
   "metadata": {},
   "outputs": [],
   "source": [
    "model_t = KNN_FAST(neighbors=5)\n",
    "model_t.fit(blob_X_tr, blob_y_tr)\n",
    "model_t.score(blob_X_ts, blob_y_ts)"
   ]
  },
  {
   "cell_type": "markdown",
   "metadata": {},
   "source": [
    "# Performance"
   ]
  },
  {
   "cell_type": "code",
   "execution_count": null,
   "metadata": {},
   "outputs": [],
   "source": [
    "%%timeit\n",
    "knc = KNeighborsClassifier(n_neighbors=1)\n",
    "knc.fit(blob_X_tr, blob_y_tr)\n",
    "knc.score(blob_X_ts, blob_y_ts)"
   ]
  },
  {
   "cell_type": "code",
   "execution_count": null,
   "metadata": {
    "scrolled": true
   },
   "outputs": [],
   "source": [
    "%%timeit\n",
    "mod = KNN()\n",
    "mod.fit(blob_X_tr, blob_y_tr)\n",
    "mod.score(blob_X_ts, blob_y_ts)"
   ]
  },
  {
   "cell_type": "code",
   "execution_count": null,
   "metadata": {},
   "outputs": [],
   "source": [
    "%%timeit\n",
    "model_FAST = KNN_FAST()\n",
    "model_FAST.fit(blob_X_tr, blob_y_tr)\n",
    "model_FAST.score(blob_X_ts, blob_y_ts)"
   ]
  },
  {
   "cell_type": "code",
   "execution_count": null,
   "metadata": {},
   "outputs": [],
   "source": [
    "\n",
    "class KNN_FAST():\n",
    "    '''K-Nearest-Neighbors-Classifier\n",
    "    -----------\n",
    "    '''\n",
    "\n",
    "    def __init__(self, neighbors=1, distance_metric='minkowski', p=2):\n",
    "        self.n = neighbors\n",
    "        self.metric = distance_metric\n",
    "        self.p = p\n",
    "\n",
    "    def fit(self, X, y):\n",
    "        \n",
    "        self.X_fit, self.y_fit = self.data_check(X,y)\n",
    "        \n",
    "    def find_distance(self, X):\n",
    "        \n",
    "        distance = np.empty((X.shape[0], self.X_fit.shape[0]))\n",
    "        for i, x in enumerate(X):\n",
    "            distance[i,:] = np.sqrt(np.square(self.X_fit - x).sum(axis=1))\n",
    "        return distance\n",
    "    \n",
    "    \n",
    "    def prediction(self, X, y):\n",
    "    \n",
    "        dist = self.find_distance(X)\n",
    "        dist_ind = dist.argsort()\n",
    "        nbr_ind = dist_ind[:, 0:self.n]\n",
    "        nbr_trg = self.y_fit[nbr_ind]\n",
    "        pred = np.empty(len(nbr_trg))\n",
    "        \n",
    "        for i, trg in enumerate(nbr_trg):\n",
    "            ID, count = np.unique(trg, return_counts=True)\n",
    "            pred_index = count.argsort()[-1]\n",
    "            pred[i] = ID[pred_index]\n",
    "            \n",
    "        return pred\n",
    "\n",
    "    def score(self, X, y):\n",
    "        \n",
    "        pred = self.prediction(X, y)\n",
    "        true_false = pred == y\n",
    "        tf_count = np.bincount(true_false)\n",
    "        \n",
    "        return tf_count[1] / (tf_count[0] + tf_count[1])\n",
    "\n",
    "    def data_check(self, X,y):\n",
    "        '''\n",
    "        Converts data to a numpy ndarray.\n",
    "        '''\n",
    "\n",
    "        if type(X) != np.ndarray:\n",
    "            try:\n",
    "                X = np.array(X)\n",
    "            except:\n",
    "                raise Exception('Failed to convert data to np.ndarray')\n",
    "                \n",
    "        if type(y) != np.ndarray:\n",
    "            try:\n",
    "                y = np.array(y)\n",
    "            except:\n",
    "                raise Exception('Failed to convert target to np.ndarray')\n",
    "\n",
    "        return X, y\n",
    "    \n",
    "    def metric_check(self):\n",
    "    \n",
    "        if self.metric == 'manhattan':\n",
    "            if self.p != 1:\n",
    "                raise ValueError('Manhattan metric has been selected, p value will be set to 1.')\n",
    "                self.p = 1\n",
    "        elif self.metric == 'euclidean':\n",
    "            if self.p != 2:\n",
    "                raise ValueError('Euclidean metric has been selected, p value will be set to 2.')\n",
    "                self.p = 2\n",
    "        elif self.metric == 'minkowski':\n",
    "            if self.p == 2:\n",
    "                raise ValueError(\n",
    "                'A p value of 2 has been selected with the Minkowski metric.\\\n",
    "                This is equivalent to the Euclidean metric.'\n",
    "                )"
   ]
  },
  {
   "cell_type": "code",
   "execution_count": null,
   "metadata": {},
   "outputs": [],
   "source": []
  }
 ],
 "metadata": {
  "kernelspec": {
   "display_name": "Python 3",
   "language": "python",
   "name": "python3"
  },
  "language_info": {
   "codemirror_mode": {
    "name": "ipython",
    "version": 3
   },
   "file_extension": ".py",
   "mimetype": "text/x-python",
   "name": "python",
   "nbconvert_exporter": "python",
   "pygments_lexer": "ipython3",
   "version": "3.6.2"
  }
 },
 "nbformat": 4,
 "nbformat_minor": 2
}
