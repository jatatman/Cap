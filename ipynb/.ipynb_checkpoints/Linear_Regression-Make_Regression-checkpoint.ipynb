{
 "cells": [
  {
   "cell_type": "markdown",
   "metadata": {},
   "source": [
    "# Linear Regression"
   ]
  },
  {
   "cell_type": "markdown",
   "metadata": {},
   "source": [
    "## $$\\mathcal{L}(\\beta) = \\sum_{i=1}^n \\epsilon_i^2 =  (y-X\\beta)^T(y-X\\beta)$$"
   ]
  },
  {
   "cell_type": "code",
   "execution_count": 1,
   "metadata": {},
   "outputs": [],
   "source": [
    "from sklearn.datasets import make_regression, load_boston"
   ]
  },
  {
   "cell_type": "code",
   "execution_count": 2,
   "metadata": {
    "scrolled": true
   },
   "outputs": [
    {
     "name": "stdout",
     "output_type": "stream",
     "text": [
      "/home/jovyan/Week_9/cap\n"
     ]
    }
   ],
   "source": [
    "cd .."
   ]
  },
  {
   "cell_type": "code",
   "execution_count": 3,
   "metadata": {},
   "outputs": [],
   "source": [
    "%run lib/imports.py\n",
    "\n",
    "%matplotlib inline"
   ]
  },
  {
   "cell_type": "code",
   "execution_count": 6,
   "metadata": {},
   "outputs": [],
   "source": [
    "# %run lib/models/Linear_Regression.py"
   ]
  },
  {
   "cell_type": "code",
   "execution_count": 3,
   "metadata": {},
   "outputs": [],
   "source": [
    "from lib.models.Linear_Regression import OLS "
   ]
  },
  {
   "cell_type": "markdown",
   "metadata": {},
   "source": [
    "## Using make_regression to create a simple dataset to test the linear regression model on."
   ]
  },
  {
   "cell_type": "code",
   "execution_count": 4,
   "metadata": {},
   "outputs": [],
   "source": [
    "mr_X, mr_y = make_regression(n_samples=100, n_features = 100, n_informative = 10, random_state = 0, noise = 1)"
   ]
  },
  {
   "cell_type": "markdown",
   "metadata": {},
   "source": [
    "### Visualizing data"
   ]
  },
  {
   "cell_type": "code",
   "execution_count": null,
   "metadata": {},
   "outputs": [],
   "source": [
    "fig = plt.figure(figsize=(10,20))\n",
    "\n",
    "for i in range(X.shape[1]):\n",
    "    \n",
    "    fig.add_subplot(20,5,i+1)\n",
    "    sns.distplot(X[i])\n",
    "    plt.title(i+1)\n",
    "    plt.yscale('linear')\n",
    "    \n",
    "fig.tight_layout()"
   ]
  },
  {
   "cell_type": "code",
   "execution_count": null,
   "metadata": {},
   "outputs": [],
   "source": [
    "fig = plt.figure(figsize=(10,20))\n",
    "\n",
    "for i in range(X.shape[1]):\n",
    "\n",
    "    fig.add_subplot(20,5,i+1)\n",
    "    plt.scatter(X[i], y)\n",
    "    plt.title(i+1)\n",
    "    \n",
    "fig.tight_layout()"
   ]
  },
  {
   "cell_type": "markdown",
   "metadata": {},
   "source": [
    "## Using the Boston housing dataset from Sklearn"
   ]
  },
  {
   "cell_type": "code",
   "execution_count": null,
   "metadata": {},
   "outputs": [],
   "source": [
    "boston_data = load_boston()"
   ]
  },
  {
   "cell_type": "code",
   "execution_count": null,
   "metadata": {},
   "outputs": [],
   "source": [
    "boston_data.feature_names"
   ]
  },
  {
   "cell_type": "code",
   "execution_count": null,
   "metadata": {
    "scrolled": true
   },
   "outputs": [],
   "source": [
    "# remove when done\n",
    "print(boston_data.DESCR)"
   ]
  },
  {
   "cell_type": "markdown",
   "metadata": {},
   "source": [
    "### Features"
   ]
  },
  {
   "cell_type": "markdown",
   "metadata": {},
   "source": [
    "\n",
    "| Name   | Description                                                           | Type      |\n",
    "| ------ |:--------------------------------------------------------------------- | --------- |\n",
    "|CRIM    | per capita crime rate by town                                         |Continuous |                   \n",
    "|ZN      | proportion of residential land zoned for lots over 25,000 sq.ft.      |Continuous |\n",
    "|INDUS   | proportion of non-retail business acres per town                      |Continuous |\n",
    "|CHAS    | Charles River dummy variable (= 1 if tract bounds river; 0 otherwise) |Categorical|\n",
    "|NOX     | nitric oxides concentration (parts per 10 million)                    |Continuous |\n",
    "|RM      | average number of rooms per dwelling                                  |Categorical|\n",
    "|AGE     | proportion of owner-occupied units built prior to 1940                |Continuous |\n",
    "|DIS     | weighted distances to five Boston employment centres                  |Continuous |\n",
    "|RAD     | index of accessibility to radial highways                             |Categorical|\n",
    "|TAX     | full-value property-tax rate per \\$10,000                             |Continuous |\n",
    "|PTRATIO | pupil-teacher ratio by town                                           |Continuous |\n",
    "|B       | 1000(Bk - 0.63)^2 where Bk is the proportion of blacks by town        |Continuous |\n",
    "|LSTAT   | % lower status of the population                                      |Continuous |\n",
    "|MEDV    | Median value of owner-occupied homes in $1000's                       |Continuous |\n",
    "\n"
   ]
  },
  {
   "cell_type": "code",
   "execution_count": null,
   "metadata": {},
   "outputs": [],
   "source": []
  },
  {
   "cell_type": "markdown",
   "metadata": {},
   "source": [
    "#### Feature notes:\n",
    "\n",
    "* Radial highway - An arterial highway leading to or from an urban center."
   ]
  },
  {
   "cell_type": "code",
   "execution_count": null,
   "metadata": {},
   "outputs": [],
   "source": [
    "# changing some column names for added clarity\n",
    "# abbreviations and acronyms will be left capitalized\n",
    "columns = ['crime',\n",
    "           'zone',\n",
    "           'NRB_acres',\n",
    "           'on_river',\n",
    "           'NOX',\n",
    "           'rooms',\n",
    "           'age',\n",
    "           'DIS',\n",
    "           'highway',\n",
    "           'tax',\n",
    "           'PT_ratio'\n",
    "           'B',\n",
    "           'LSTAT',\n",
    "           'MED_value']"
   ]
  },
  {
   "cell_type": "code",
   "execution_count": null,
   "metadata": {},
   "outputs": [],
   "source": [
    "bos_X = pd.DataFrame(boston_data.data, columns=columns)\n",
    "bos_y = pd.DataFrame(boston_data.target)"
   ]
  },
  {
   "cell_type": "code",
   "execution_count": null,
   "metadata": {},
   "outputs": [],
   "source": [
    "bos_X.shape, bos_y.shape"
   ]
  },
  {
   "cell_type": "code",
   "execution_count": null,
   "metadata": {},
   "outputs": [],
   "source": [
    "bos_X.head()"
   ]
  },
  {
   "cell_type": "code",
   "execution_count": null,
   "metadata": {},
   "outputs": [],
   "source": [
    "bos_y.he"
   ]
  },
  {
   "cell_type": "code",
   "execution_count": null,
   "metadata": {},
   "outputs": [],
   "source": [
    "fig = plt.figure(figsize=(15,10))\n",
    "\n",
    "i = 0\n",
    "for col in bos_X.columns:\n",
    "    i += 1\n",
    "    fig.add_subplot(4,4,i)\n",
    "    sns.distplot(bos_X[col])\n",
    "    plt.title(col)\n",
    "\n",
    "plt.tight_layout()"
   ]
  },
  {
   "cell_type": "code",
   "execution_count": null,
   "metadata": {
    "scrolled": true
   },
   "outputs": [],
   "source": [
    "sns.pairplot(bos_X)"
   ]
  },
  {
   "cell_type": "markdown",
   "metadata": {},
   "source": [
    "## Comparing custom linear regression model to the one in scikit learn"
   ]
  },
  {
   "cell_type": "markdown",
   "metadata": {},
   "source": [
    "#### make_regression"
   ]
  },
  {
   "cell_type": "code",
   "execution_count": null,
   "metadata": {},
   "outputs": [],
   "source": [
    "from sklearn.linear_model import LinearRegression\n",
    "from sklearn.model_selection import train_test_split\n",
    "\n",
    "import numpy as np"
   ]
  },
  {
   "cell_type": "code",
   "execution_count": null,
   "metadata": {},
   "outputs": [],
   "source": [
    "mr_X_tr, mr_X_ts, mr_y_tr, mr_y_ts = train_test_split(mr_X, mr_y)"
   ]
  },
  {
   "cell_type": "code",
   "execution_count": null,
   "metadata": {},
   "outputs": [],
   "source": [
    "# from lib.models.Linear_Regression import OLS \n",
    "sci_lr = LinearRegression()\n",
    "my_lr = OLS()\n"
   ]
  },
  {
   "cell_type": "code",
   "execution_count": null,
   "metadata": {},
   "outputs": [],
   "source": [
    "sci_lr.fit(mr_X_tr, mr_y_tr)\n",
    "sci_lr.score(mr_X_ts, mr_y_ts)"
   ]
  },
  {
   "cell_type": "code",
   "execution_count": null,
   "metadata": {},
   "outputs": [],
   "source": [
    "my_lr.fit(mr_X_tr, mr_y_tr, reg=True)\n",
    "my_lr.score(mr_X_ts, mr_y_ts)"
   ]
  },
  {
   "cell_type": "code",
   "execution_count": null,
   "metadata": {},
   "outputs": [],
   "source": [
    "np.eye(1)"
   ]
  },
  {
   "cell_type": "code",
   "execution_count": null,
   "metadata": {},
   "outputs": [],
   "source": [
    "class OLS():\n",
    "    \n",
    "    def __init__(self):\n",
    "        pass\n",
    "    \n",
    "    def fit(self, X=None, y=None, reg=False, alpha=None, deg_freedom=None):\n",
    "        import numpy as np\n",
    "        '''\n",
    "        Creates a line of best fit for the data using linear regression.\n",
    "    \n",
    "        Parameters:\n",
    "\n",
    "        reg: regularization\n",
    "        \n",
    "        '''\n",
    "        \n",
    "        ones = np.ones(X.shape[0])\n",
    "        X_ = np.column_stack((ones, X))\n",
    "        \n",
    "        \n",
    "        if reg == False:\n",
    "            self.betas = np.linalg.inv(X_.T.dot(X_)).dot(X_.T).dot(y)\n",
    "            \n",
    "        if reg == True:\n",
    "            self.betas = np.linalg.inv(X_.T.dot(X_) + alpha * np.eye(deg_freedom)).dot(X_.T).dot(y)\n",
    "            \n",
    "        return self.betas\n",
    "\n",
    "#use this score function\n",
    "    def score(self, X=None, y=None):\n",
    "    \n",
    "        y_pred = self.betas[0] + X.dot(self.betas[1:])\n",
    "    \n",
    "        RSS = ((y_pred - y) ** 2).sum()\n",
    "        TSS = ((y - y.mean()) ** 2).sum()\n",
    "    \n",
    "        R2 = 1 - (RSS/TSS)\n",
    "\n",
    "        return R2\n",
    "\n",
    "my_lr = OLS()"
   ]
  },
  {
   "cell_type": "code",
   "execution_count": null,
   "metadata": {},
   "outputs": [],
   "source": [
    "from lib.models.Linear_Regression import OLS "
   ]
  },
  {
   "cell_type": "code",
   "execution_count": null,
   "metadata": {},
   "outputs": [],
   "source": [
    "fig = plt.figure(figsize=(10,20))\n",
    "\n",
    "for i in range(X.shape[1]):\n",
    "    \n",
    "    fig.add_subplot(20,5,i+1)\n",
    "    sns.distplot(X[i])\n",
    "    plt.title(i+1)\n",
    "    plt.yscale('linear')\n",
    "    \n",
    "fig.tight_layout()\n",
    "\n",
    "fig = plt.figure(figsize=(10,20))\n",
    "\n",
    "\n",
    "\n",
    "for i in range(X.shape[1]):\n",
    "\n",
    "    fig.add_subplot(20,5,i+1)\n",
    "    plt.scatter(X[i], y)\n",
    "    plt.title(i+1)\n",
    "    \n",
    "fig.tight_layout()"
   ]
  },
  {
   "cell_type": "code",
   "execution_count": null,
   "metadata": {},
   "outputs": [],
   "source": [
    "def fit_ridge(self, X=None, y=None, alpha=1):\n",
    "    '''\n",
    "    fits linear regression model with the ridge penalty\n",
    "    '''\n",
    "    ones = np.ones(X.shape[0])\n",
    "    X_ = np.column_stack((ones, X))\n",
    "\n",
    "    betas = np.linalg.inv(X_.T.dot(X_) + alpha * np.eye(1)).dot(X_.T).dot(y)\n",
    "\n",
    "    return self"
   ]
  },
  {
   "cell_type": "code",
   "execution_count": null,
   "metadata": {},
   "outputs": [],
   "source": []
  }
 ],
 "metadata": {
  "kernelspec": {
   "display_name": "Python 3",
   "language": "python",
   "name": "python3"
  },
  "language_info": {
   "codemirror_mode": {
    "name": "ipython",
    "version": 3
   },
   "file_extension": ".py",
   "mimetype": "text/x-python",
   "name": "python",
   "nbconvert_exporter": "python",
   "pygments_lexer": "ipython3",
   "version": "3.6.2"
  }
 },
 "nbformat": 4,
 "nbformat_minor": 2
}
