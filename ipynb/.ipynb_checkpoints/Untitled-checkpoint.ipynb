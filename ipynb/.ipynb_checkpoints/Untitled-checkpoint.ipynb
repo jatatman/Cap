{
 "cells": [
  {
   "cell_type": "markdown",
   "metadata": {},
   "source": [
    "# Ridge\n",
    "\n",
    "## $$\\mathcal{L}_{ridge}(\\beta) = \\sum_{i=1}^n \\epsilon_i^2 +\\lambda\\sum\\beta_i^2 =  (y-X\\beta)^T(y-X\\beta)+\\lambda\\beta^T\\beta $$\n",
    "\n",
    "# Lasso\n",
    "\n",
    "## $$\\mathcal{L}_{lasso}(\\beta) = \\sum_{i=1}^n \\rvert\\epsilon_i\\rvert +\\lambda\\sum\\rvert\\beta_i\\rvert =  (y-X\\beta)^T(y-X\\beta)+\\lambda\\rvert\\beta\\rvert $$\n",
    "\n",
    "# Elastic Net \n",
    "\n",
    "## $$\\mathcal{L}_{lasso}(\\beta) = \\sum_{i=1}^n \\rvert\\epsilon_i\\rvert + \\lambda_1\\sum\\rvert\\beta_i\\rvert+\\lambda_2\\sum\\beta_i^2 =  (y- X\\beta)^T(y-X\\beta)+\\lambda_1\\rvert\\beta\\rvert+\\lambda_2\\beta^T\\beta $$"
   ]
  },
  {
   "cell_type": "code",
   "execution_count": null,
   "metadata": {},
   "outputs": [],
   "source": [
    "#use this score function\n",
    "def score(b, X=None, y=None):\n",
    "    \n",
    "    y_pred = b[0] + X.dot(b[1:])\n",
    "    \n",
    "    RSS = ((y_pred - y) ** 2).sum()\n",
    "    TSS = ((y - y.mean()) ** 2).sum()\n",
    "    \n",
    "    R2 = 1 - (RSS/TSS)\n",
    "\n",
    "    return R2\n",
    "\n",
    "\n",
    "# alt score function for OLS\n",
    "def score1(b, X = None, y = None):\n",
    "    \n",
    "    betas_N = X * b[1:]\n",
    "    \n",
    "    x_beta_N = [betas_N[i].sum() for i in range(X.shape[0])]\n",
    "    \n",
    "    y_pred = [b[0] + [xb for xb in x_beta_N]]\n",
    "    \n",
    "#     for i in range(X.shape[0]):\n",
    "        \n",
    "#         y_pred = b[0] + (b[1:] * X[i]).sum()\n",
    "    \n",
    "    RSS = ((y_pred - y) ** 2).sum()\n",
    "    TSS = ((y - y.mean()) ** 2).sum()\n",
    "    \n",
    "    R2 = 1 - (RSS/TSS)\n",
    "\n",
    "    return R2\n",
    "\n"
   ]
  }
 ],
 "metadata": {
  "kernelspec": {
   "display_name": "Python 3",
   "language": "python",
   "name": "python3"
  },
  "language_info": {
   "codemirror_mode": {
    "name": "ipython",
    "version": 3
   },
   "file_extension": ".py",
   "mimetype": "text/x-python",
   "name": "python",
   "nbconvert_exporter": "python",
   "pygments_lexer": "ipython3",
   "version": "3.6.2"
  }
 },
 "nbformat": 4,
 "nbformat_minor": 2
}
