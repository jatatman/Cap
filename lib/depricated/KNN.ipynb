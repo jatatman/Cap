{
 "cells": [
  {
   "cell_type": "code",
   "execution_count": 1,
   "metadata": {},
   "outputs": [],
   "source": [
    "import numpy as np\n",
    "import pandas as pd"
   ]
  },
  {
   "cell_type": "code",
   "execution_count": 7,
   "metadata": {},
   "outputs": [],
   "source": [
    "from sklearn.datasets import make_blobs\n",
    "\n",
    "import seaborn as sns\n",
    "import matplotlib.pyplot as plt\n",
    "\n",
    "\n",
    "% matplotlib inline"
   ]
  },
  {
   "cell_type": "code",
   "execution_count": 14,
   "metadata": {},
   "outputs": [],
   "source": [
    "blob = make_blobs()"
   ]
  },
  {
   "cell_type": "code",
   "execution_count": 26,
   "metadata": {},
   "outputs": [],
   "source": [
    "data = blob[0]\n",
    "target = blob[1]"
   ]
  },
  {
   "cell_type": "code",
   "execution_count": null,
   "metadata": {},
   "outputs": [],
   "source": [
    "sns.boxplot(data[:,0], data[:,1], hue = )"
   ]
  },
  {
   "cell_type": "code",
   "execution_count": 69,
   "metadata": {
    "scrolled": false
   },
   "outputs": [
    {
     "data": {
      "text/plain": [
       "<matplotlib.collections.PathCollection at 0x7fd053e92b38>"
      ]
     },
     "execution_count": 69,
     "metadata": {},
     "output_type": "execute_result"
    },
    {
     "data": {
      "image/png": "[encoded data removed]",
      "text/plain": [
       "<matplotlib.figure.Figure at 0x7fd053e78dd8>"
      ]
     },
     "metadata": {},
     "output_type": "display_data"
    }
   ],
   "source": [
    "# plt.boxplot(data[:,0], target,c='r')\n",
    "plt.scatter(data[:,1], data[:,0],c=target)"
   ]
  },
  {
   "cell_type": "code",
   "execution_count": 45,
   "metadata": {},
   "outputs": [],
   "source": [
    "from sklearn.model_selection import train_test_split"
   ]
  },
  {
   "cell_type": "code",
   "execution_count": 78,
   "metadata": {},
   "outputs": [],
   "source": [
    "X_tr, X_ts, y_tr, y_ts = train_test_split(data, target, test_size=.5)"
   ]
  },
  {
   "cell_type": "code",
   "execution_count": 68,
   "metadata": {},
   "outputs": [
    {
     "ename": "IndentationError",
     "evalue": "expected an indented block (<ipython-input-68-51f960b24d35>, line 5)",
     "output_type": "error",
     "traceback": [
      "\u001b[0;36m  File \u001b[0;32m\"<ipython-input-68-51f960b24d35>\"\u001b[0;36m, line \u001b[0;32m5\u001b[0m\n\u001b[0;31m    def fit(X, y):\u001b[0m\n\u001b[0m      ^\u001b[0m\n\u001b[0;31mIndentationError\u001b[0m\u001b[0;31m:\u001b[0m expected an indented block\n"
     ]
    }
   ],
   "source": [
    "class KNN(object):\n",
    "    \n",
    "    def __init__(self, neighbors=1):\n",
    "        self.self\n",
    "        \n",
    "    def fit(X, y):\n",
    "        \n",
    "        self.X = np.array(X)\n",
    "        self.y = y\n",
    "        \n",
    "        return self\n",
    "    \n",
    "        \n",
    "        "
   ]
  },
  {
   "cell_type": "code",
   "execution_count": 269,
   "metadata": {},
   "outputs": [],
   "source": [
    "a = np.array([[1,1], [2,3], [4,5], [6,7]])\n",
    "b = np.array([[7,6], [5,4], [3,2], [1,0]])"
   ]
  },
  {
   "cell_type": "code",
   "execution_count": 262,
   "metadata": {},
   "outputs": [
    {
     "data": {
      "text/html": [
       "<div>\n",
       "<table border=\"1\" class=\"dataframe\">\n",
       "  <thead>\n",
       "    <tr style=\"text-align: right;\">\n",
       "      <th></th>\n",
       "      <th>0</th>\n",
       "      <th>1</th>\n",
       "    </tr>\n",
       "  </thead>\n",
       "  <tbody>\n",
       "    <tr>\n",
       "      <th>0</th>\n",
       "      <td>1</td>\n",
       "      <td>1</td>\n",
       "    </tr>\n",
       "    <tr>\n",
       "      <th>1</th>\n",
       "      <td>2</td>\n",
       "      <td>3</td>\n",
       "    </tr>\n",
       "    <tr>\n",
       "      <th>2</th>\n",
       "      <td>4</td>\n",
       "      <td>5</td>\n",
       "    </tr>\n",
       "    <tr>\n",
       "      <th>3</th>\n",
       "      <td>6</td>\n",
       "      <td>7</td>\n",
       "    </tr>\n",
       "  </tbody>\n",
       "</table>\n",
       "</div>"
      ],
      "text/plain": [
       "   0  1\n",
       "0  1  1\n",
       "1  2  3\n",
       "2  4  5\n",
       "3  6  7"
      ]
     },
     "execution_count": 262,
     "metadata": {},
     "output_type": "execute_result"
    }
   ],
   "source": [
    "c = pd.DataFrame(a)\n",
    "c"
   ]
  },
  {
   "cell_type": "code",
   "execution_count": 247,
   "metadata": {
    "scrolled": true
   },
   "outputs": [
    {
     "data": {
      "text/plain": [
       "array([[7, 6],\n",
       "       [5, 4],\n",
       "       [3, 2],\n",
       "       [1, 0]])"
      ]
     },
     "execution_count": 247,
     "metadata": {},
     "output_type": "execute_result"
    }
   ],
   "source": [
    "b"
   ]
  },
  {
   "cell_type": "code",
   "execution_count": 253,
   "metadata": {},
   "outputs": [
    {
     "data": {
      "text/plain": [
       "array([7, 5, 3, 1])"
      ]
     },
     "execution_count": 253,
     "metadata": {},
     "output_type": "execute_result"
    }
   ],
   "source": [
    "b[:,0]"
   ]
  },
  {
   "cell_type": "code",
   "execution_count": 256,
   "metadata": {},
   "outputs": [
    {
     "data": {
      "text/plain": [
       "array([-6, -4, -2,  0])"
      ]
     },
     "execution_count": 256,
     "metadata": {},
     "output_type": "execute_result"
    }
   ],
   "source": [
    "a[0][0] - b[:,0]"
   ]
  },
  {
   "cell_type": "code",
   "execution_count": 257,
   "metadata": {},
   "outputs": [
    {
     "data": {
      "text/plain": [
       "array([-6, -3,  1,  5])"
      ]
     },
     "execution_count": 257,
     "metadata": {},
     "output_type": "execute_result"
    }
   ],
   "source": [
    "a[0] - b[:,0]"
   ]
  },
  {
   "cell_type": "code",
   "execution_count": null,
   "metadata": {},
   "outputs": [],
   "source": [
    "np.sqrt()"
   ]
  },
  {
   "cell_type": "code",
   "execution_count": 188,
   "metadata": {},
   "outputs": [
    {
     "data": {
      "text/plain": [
       "-4.3088634800191929"
      ]
     },
     "execution_count": 188,
     "metadata": {},
     "output_type": "execute_result"
    }
   ],
   "source": [
    "X_tr[0][0]"
   ]
  },
  {
   "cell_type": "code",
   "execution_count": null,
   "metadata": {},
   "outputs": [],
   "source": [
    "dist = np.sqrt((X_tr[i][0] - X[:, 0])**"
   ]
  },
  {
   "cell_type": "code",
   "execution_count": null,
   "metadata": {},
   "outputs": [],
   "source": [
    "def predict(X, neighbors=1):\n",
    "    \n",
    "    pred_list = []\n",
    "    # add exception for when neighbors > len(X)\n",
    "    for i in range(len(y_ts))\n",
    "    \n",
    "    \n",
    "    \n",
    "        dist = np.sqrt((X_tr[i][0] - X[:,0])**2 + (X_tr[i][1] - X[:,1])**2 )\n",
    "        min_dist_index = dist.argsort()[0:neighbors]\n",
    "        trgt_of_nbr = y_ts[min_dist_index]\n",
    "    \n",
    "    \n",
    "        trgt_freq, trgt_id = np.unique(trgt_of_nbr, return_counts=True)\n",
    "        pred_index = trgt_freq.argsort()[0]\n",
    "        prediction = trgt_freq[pred_index]\n",
    "        \n",
    "        pred_list.append\n",
    "        \n",
    "    return pred_list# TO DO\n",
    "* train test split\n",
    "* data type handling\n",
    "\n",
    "\n",
    "\n",
    "### Linear Regression\n",
    "* investigate result difference with sklearn.\n",
    "\n",
    "\n",
    "### K Nearest Neighbors\n",
    "* Add function that solves class prediction ties.\n",
    "  * weights\n",
    "\n",
    "### Logistic Regression\n",
    "* Needs additional scoring methods\n",
    "  * ROC/AUC\n",
    "\n",
    "  \n",
    "### Layout Alpha\n",
    "\n",
    "`\n",
    "Class Model():`\n",
    "\n",
    "\tdef __init__(self, X, y, split=None, scale=None):\n",
    "\t\tself.X = X\n",
    "\t\tself.y = y\n",
    "\t\tself.spilt = split\n",
    "\t\tself.scale = None\n",
    "\t\t\n",
    "\tdef tts(X, y, split):\n",
    "\t\t'''\n",
    "\t\ttrain_test_splits data\n",
    "\t\t'''\n",
    "\t\n",
    "\tdef scaler(X):\n",
    "\t\t'''\n",
    "\t\tscalers\n",
    "\t\t'''\n",
    "\t\t\t\n",
    "\tdef fit(X,y):\n",
    "\t\t'''\n",
    "\t\tfits a model\n",
    "\t\t'''\n",
    "\t\n",
    "\tdef predict(X,y):\n",
    "\t\tpredict\n",
    "\t\t\n",
    "\tdef probabililty_prediction(X,y):\n",
    "\t\tgive probabilites for prediciton\n",
    "\t\t\n",
    "\tdef score(\n",
    "\t\n",
    "`\n",
    "\n",
    "\n",
    "\n",
    "### \n",
    "\n"
   ]
  },
  {
   "cell_type": "code",
   "execution_count": 212,
   "metadata": {},
   "outputs": [],
   "source": [
    "def predict(X, neighbors=1):\n",
    "    \n",
    "    # add exception for when neighbors > len(X)\n",
    "    \n",
    "    dist = np.sqrt((X_tr[0][0] - X[:,0])**2 + (X_tr[0][1] - X[:,1])**2 )\n",
    "    min_dist_index = dist.argsort()[0:neighbors]\n",
    "    trgt_of_nbr = y_ts[min_dist_index]\n",
    "    \n",
    "    \n",
    "    trgt_freq, trgt_id = np.unique(trgt_of_nbr, return_counts=True)\n",
    "    pred_index = trgt_freq.argsort()[0]\n",
    "    prediction = trgt_freq[pred_index]\n",
    "    \n",
    "#q\n",
    "#     trgt_ind = dist.argsort(trgt_freq)[0:2]\n",
    "    \n",
    "#     if trgt_freq[0] == trgt_freq[2]:\n",
    "    \n",
    "    \n",
    "    \n",
    "    return prediction"
   ]
  },
  {
   "cell_type": "code",
   "execution_count": 215,
   "metadata": {},
   "outputs": [
    {
     "data": {
      "text/plain": [
       "(0, array([0, 0, 2, 1, 2, 2, 0, 2, 2, 0, 1, 1, 0, 1, 0, 1, 2, 1, 1, 0, 1, 0, 2,\n",
       "        1, 1, 2, 0, 2, 1, 1, 2, 2, 0, 1, 1, 1, 2, 0, 2, 0, 0, 0, 2, 0, 2, 2,\n",
       "        0, 1, 2, 0]))"
      ]
     },
     "execution_count": 215,
     "metadata": {},
     "output_type": "execute_result"
    }
   ],
   "source": [
    "d = predict(X_ts, neighbors=5)\n",
    "d,y_ts"
   ]
  },
  {
   "cell_type": "code",
   "execution_count": 209,
   "metadata": {},
   "outputs": [],
   "source": [
    "a, b = predict(X_ts, neighbors=5)"
   ]
  },
  {
   "cell_type": "code",
   "execution_count": 210,
   "metadata": {},
   "outputs": [
    {
     "data": {
      "text/plain": [
       "(array([ 1, 40, 26, 14, 41]), array([0, 0, 0, 0, 0]))"
      ]
     },
     "execution_count": 210,
     "metadata": {},
     "output_type": "execute_result"
    }
   ],
   "source": [
    "a,b"
   ]
  },
  {
   "cell_type": "code",
   "execution_count": 183,
   "metadata": {},
   "outputs": [],
   "source": [
    "a = np.array([1,2,3,4,5])"
   ]
  },
  {
   "cell_type": "code",
   "execution_count": 171,
   "metadata": {},
   "outputs": [
    {
     "data": {
      "text/plain": [
       "(array([0, 1, 2]), array([1, 1, 3]))"
      ]
     },
     "execution_count": 171,
     "metadata": {},
     "output_type": "execute_result"
    }
   ],
   "source": [
    "freq, i_d = predict(X_ts, neighbors=5)\n",
    "freq,i_d"
   ]
  },
  {
   "cell_type": "code",
   "execution_count": null,
   "metadata": {},
   "outputs": [],
   "source": []
  },
  {
   "cell_type": "code",
   "execution_count": null,
   "metadata": {},
   "outputs": [],
   "source": []
  },
  {
   "cell_type": "code",
   "execution_count": 161,
   "metadata": {},
   "outputs": [],
   "source": [
    "zz = d.argsort()[0:2]"
   ]
  },
  {
   "cell_type": "code",
   "execution_count": 162,
   "metadata": {},
   "outputs": [
    {
     "data": {
      "text/plain": [
       "array([36, 25])"
      ]
     },
     "execution_count": 162,
     "metadata": {},
     "output_type": "execute_result"
    }
   ],
   "source": [
    "zz"
   ]
  },
  {
   "cell_type": "code",
   "execution_count": 159,
   "metadata": {},
   "outputs": [],
   "source": [
    "a,b = np.unique(p, return_counts=True)\n",
    "ab = np.column_stack((b,a))\n",
    "\n"
   ]
  },
  {
   "cell_type": "code",
   "execution_count": 92,
   "metadata": {},
   "outputs": [],
   "source": [
    "d = predict(X_ts)"
   ]
  },
  {
   "cell_type": "code",
   "execution_count": null,
   "metadata": {},
   "outputs": [],
   "source": [
    "# TO DO\n",
    "* train test split\n",
    "* data type handling\n",
    "\n",
    "\n",
    "\n",
    "### Linear Regression\n",
    "* investigate result difference with sklearn.\n",
    "\n",
    "\n",
    "### K Nearest Neighbors\n",
    "* Add function that solves class prediction ties.\n",
    "  * weights\n",
    "\n",
    "### Logistic Regression\n",
    "* Needs additional scoring methods\n",
    "  * ROC/AUC\n",
    "\n",
    "  \n",
    "    Class Model():\n",
    "   \n",
    "       def fit(X,y):\n",
    "        \n",
    "            '''\n",
    "            fits a model\n",
    "            '''\n",
    "            \n",
    "            pass\n",
    "        \n",
    "        \n",
    "        def predict(X,y):\n",
    "        \n",
    "            '''\n",
    "            predict\n",
    "            '''\n",
    "            \n",
    "            pass\n",
    "            \n",
    "        def probabililty_prediction(X,y):\n",
    "            \n",
    "            '''\n",
    "            give probabilites for prediciton\n",
    "            '''\n",
    "            \n",
    "            pass\n",
    "        \n",
    "        def score():\n",
    "        \n",
    "            '''\n",
    "            scores model.\n",
    "            '''"
   ]
  }
 ],
 "metadata": {
  "kernelspec": {
   "display_name": "Python 3",
   "language": "python",
   "name": "python3"
  },
  "language_info": {
   "codemirror_mode": {
    "name": "ipython",
    "version": 3
   },
   "file_extension": ".py",
   "mimetype": "text/x-python",
   "name": "python",
   "nbconvert_exporter": "python",
   "pygments_lexer": "ipython3",
   "version": "3.6.2"
  }
 },
 "nbformat": 4,
 "nbformat_minor": 2
}
