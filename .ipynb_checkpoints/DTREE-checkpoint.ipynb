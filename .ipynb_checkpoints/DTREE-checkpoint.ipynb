{
 "cells": [
  {
   "cell_type": "code",
   "execution_count": 23,
   "metadata": {},
   "outputs": [],
   "source": [
    "% run items.py\n",
    "import pandas as pd \n",
    "import numpy as np"
   ]
  },
  {
   "cell_type": "code",
   "execution_count": 24,
   "metadata": {
    "collapsed": true
   },
   "outputs": [
    {
     "data": {
      "text/html": [
       "<div>\n",
       "<table border=\"1\" class=\"dataframe\">\n",
       "  <thead>\n",
       "    <tr style=\"text-align: right;\">\n",
       "      <th></th>\n",
       "      <th>border</th>\n",
       "      <th>color</th>\n",
       "      <th>form</th>\n",
       "      <th>letter</th>\n",
       "    </tr>\n",
       "  </thead>\n",
       "  <tbody>\n",
       "    <tr>\n",
       "      <th>0</th>\n",
       "      <td>False</td>\n",
       "      <td>blue</td>\n",
       "      <td>square</td>\n",
       "      <td>E</td>\n",
       "    </tr>\n",
       "    <tr>\n",
       "      <th>1</th>\n",
       "      <td>True</td>\n",
       "      <td>red</td>\n",
       "      <td>circle</td>\n",
       "      <td>A</td>\n",
       "    </tr>\n",
       "    <tr>\n",
       "      <th>2</th>\n",
       "      <td>False</td>\n",
       "      <td>green</td>\n",
       "      <td>circle</td>\n",
       "      <td>B</td>\n",
       "    </tr>\n",
       "    <tr>\n",
       "      <th>3</th>\n",
       "      <td>True</td>\n",
       "      <td>red</td>\n",
       "      <td>diamond</td>\n",
       "      <td>E</td>\n",
       "    </tr>\n",
       "    <tr>\n",
       "      <th>4</th>\n",
       "      <td>True</td>\n",
       "      <td>red</td>\n",
       "      <td>diamond</td>\n",
       "      <td>E</td>\n",
       "    </tr>\n",
       "    <tr>\n",
       "      <th>5</th>\n",
       "      <td>False</td>\n",
       "      <td>blue</td>\n",
       "      <td>diamond</td>\n",
       "      <td>C</td>\n",
       "    </tr>\n",
       "    <tr>\n",
       "      <th>6</th>\n",
       "      <td>False</td>\n",
       "      <td>green</td>\n",
       "      <td>square</td>\n",
       "      <td>A</td>\n",
       "    </tr>\n",
       "    <tr>\n",
       "      <th>7</th>\n",
       "      <td>True</td>\n",
       "      <td>green</td>\n",
       "      <td>diamond</td>\n",
       "      <td>D</td>\n",
       "    </tr>\n",
       "    <tr>\n",
       "      <th>8</th>\n",
       "      <td>True</td>\n",
       "      <td>silver</td>\n",
       "      <td>star</td>\n",
       "      <td>C</td>\n",
       "    </tr>\n",
       "    <tr>\n",
       "      <th>9</th>\n",
       "      <td>False</td>\n",
       "      <td>silver</td>\n",
       "      <td>square</td>\n",
       "      <td>C</td>\n",
       "    </tr>\n",
       "    <tr>\n",
       "      <th>10</th>\n",
       "      <td>False</td>\n",
       "      <td>green</td>\n",
       "      <td>circle</td>\n",
       "      <td>B</td>\n",
       "    </tr>\n",
       "    <tr>\n",
       "      <th>11</th>\n",
       "      <td>True</td>\n",
       "      <td>red</td>\n",
       "      <td>circle</td>\n",
       "      <td>A</td>\n",
       "    </tr>\n",
       "    <tr>\n",
       "      <th>12</th>\n",
       "      <td>False</td>\n",
       "      <td>green</td>\n",
       "      <td>square</td>\n",
       "      <td>A</td>\n",
       "    </tr>\n",
       "    <tr>\n",
       "      <th>13</th>\n",
       "      <td>True</td>\n",
       "      <td>green</td>\n",
       "      <td>circle</td>\n",
       "      <td>D</td>\n",
       "    </tr>\n",
       "    <tr>\n",
       "      <th>14</th>\n",
       "      <td>True</td>\n",
       "      <td>blue</td>\n",
       "      <td>star</td>\n",
       "      <td>B</td>\n",
       "    </tr>\n",
       "    <tr>\n",
       "      <th>15</th>\n",
       "      <td>True</td>\n",
       "      <td>blue</td>\n",
       "      <td>circle</td>\n",
       "      <td>B</td>\n",
       "    </tr>\n",
       "    <tr>\n",
       "      <th>16</th>\n",
       "      <td>False</td>\n",
       "      <td>blue</td>\n",
       "      <td>square</td>\n",
       "      <td>E</td>\n",
       "    </tr>\n",
       "    <tr>\n",
       "      <th>17</th>\n",
       "      <td>True</td>\n",
       "      <td>red</td>\n",
       "      <td>diamond</td>\n",
       "      <td>E</td>\n",
       "    </tr>\n",
       "    <tr>\n",
       "      <th>18</th>\n",
       "      <td>True</td>\n",
       "      <td>blue</td>\n",
       "      <td>star</td>\n",
       "      <td>B</td>\n",
       "    </tr>\n",
       "    <tr>\n",
       "      <th>19</th>\n",
       "      <td>False</td>\n",
       "      <td>purple</td>\n",
       "      <td>square</td>\n",
       "      <td>C</td>\n",
       "    </tr>\n",
       "    <tr>\n",
       "      <th>20</th>\n",
       "      <td>False</td>\n",
       "      <td>silver</td>\n",
       "      <td>square</td>\n",
       "      <td>C</td>\n",
       "    </tr>\n",
       "  </tbody>\n",
       "</table>\n",
       "</div>"
      ],
      "text/plain": [
       "   border   color     form letter\n",
       "0   False    blue   square      E\n",
       "1    True     red   circle      A\n",
       "2   False   green   circle      B\n",
       "3    True     red  diamond      E\n",
       "4    True     red  diamond      E\n",
       "5   False    blue  diamond      C\n",
       "6   False   green   square      A\n",
       "7    True   green  diamond      D\n",
       "8    True  silver     star      C\n",
       "9   False  silver   square      C\n",
       "10  False   green   circle      B\n",
       "11   True     red   circle      A\n",
       "12  False   green   square      A\n",
       "13   True   green   circle      D\n",
       "14   True    blue     star      B\n",
       "15   True    blue   circle      B\n",
       "16  False    blue   square      E\n",
       "17   True     red  diamond      E\n",
       "18   True    blue     star      B\n",
       "19  False  purple   square      C\n",
       "20  False  silver   square      C"
      ]
     },
     "execution_count": 24,
     "metadata": {},
     "output_type": "execute_result"
    }
   ],
   "source": [
    "items_df = pd.DataFrame(items)\n",
    "items_df"
   ]
  },
  {
   "cell_type": "code",
   "execution_count": 25,
   "metadata": {},
   "outputs": [],
   "source": [
    "it_ar = np.array(items_df.drop('border', axis=1))\n",
    "tar_ar = np.array(items_df['border'])"
   ]
  },
  {
   "cell_type": "code",
   "execution_count": 26,
   "metadata": {},
   "outputs": [],
   "source": [
    "# probability is the same\n",
    "# weights are the same\n",
    "# need to get entropy the same\n",
    "p, e, we = entropy_on_split(items_df, items_df['border'], 'color', debug=False)"
   ]
  },
  {
   "cell_type": "code",
   "execution_count": 27,
   "metadata": {},
   "outputs": [
    {
     "name": "stdout",
     "output_type": "stream",
     "text": [
      "1.0\n",
      "-0.0\n",
      "0.918295834054\n",
      "0.918295834054\n",
      "-0.0\n"
     ]
    }
   ],
   "source": [
    "for prop in p:\n",
    "    print(entropy(prop))"
   ]
  },
  {
   "cell_type": "code",
   "execution_count": 38,
   "metadata": {},
   "outputs": [],
   "source": [
    "zero = .1**10\n",
    "myp[myp == 0] = zero"
   ]
  },
  {
   "cell_type": "code",
   "execution_count": 20,
   "metadata": {},
   "outputs": [
    {
     "data": {
      "text/plain": [
       "array([ 0.5,  0.5])"
      ]
     },
     "execution_count": 20,
     "metadata": {},
     "output_type": "execute_result"
    }
   ],
   "source": [
    "np.array(p[0])"
   ]
  },
  {
   "cell_type": "code",
   "execution_count": 44,
   "metadata": {},
   "outputs": [
    {
     "data": {
      "text/plain": [
       "1.0"
      ]
     },
     "execution_count": 44,
     "metadata": {},
     "output_type": "execute_result"
    }
   ],
   "source": [
    "entropy(myp[0])"
   ]
  },
  {
   "cell_type": "code",
   "execution_count": 50,
   "metadata": {},
   "outputs": [
    {
     "data": {
      "text/plain": [
       "0.91829583405448956"
      ]
     },
     "execution_count": 50,
     "metadata": {},
     "output_type": "execute_result"
    }
   ],
   "source": [
    "my_entropy(myp[1])"
   ]
  },
  {
   "cell_type": "code",
   "execution_count": 51,
   "metadata": {
    "scrolled": true
   },
   "outputs": [
    {
     "name": "stdout",
     "output_type": "stream",
     "text": [
      "1.0\n",
      "0.918295834054\n",
      "3.32192809489e-09\n",
      "3.32192809489e-09\n",
      "0.918295834054\n"
     ]
    }
   ],
   "source": [
    "for p in myp:\n",
    "    print(entropy(p))"
   ]
  },
  {
   "cell_type": "code",
   "execution_count": 34,
   "metadata": {},
   "outputs": [
    {
     "data": {
      "text/plain": [
       "1.0"
      ]
     },
     "execution_count": 34,
     "metadata": {},
     "output_type": "execute_result"
    }
   ],
   "source": [
    "entropy(p[0])"
   ]
  },
  {
   "cell_type": "code",
   "execution_count": 28,
   "metadata": {},
   "outputs": [
    {
     "data": {
      "text/plain": [
       "[array([False, False,  True,  True, False,  True], dtype=bool),\n",
       " array([False, False,  True, False, False,  True], dtype=bool),\n",
       " array([False], dtype=bool),\n",
       " array([ True,  True,  True,  True,  True], dtype=bool),\n",
       " array([ True, False, False], dtype=bool)]"
      ]
     },
     "metadata": {},
     "output_type": "display_data"
    },
    {
     "data": {
      "text/plain": [
       "[0.2857142857142857,\n",
       " 0.2857142857142857,\n",
       " 0.047619047619047616,\n",
       " 0.23809523809523808,\n",
       " 0.14285714285714285]"
      ]
     },
     "metadata": {},
     "output_type": "display_data"
    },
    {
     "data": {
      "text/plain": [
       "array([[ 0.5       ,  0.5       ],\n",
       "       [ 0.33333333,  0.66666667],\n",
       "       [ 0.        ,  1.        ],\n",
       "       [ 1.        ,  0.        ],\n",
       "       [ 0.33333333,  0.66666667]])"
      ]
     },
     "metadata": {},
     "output_type": "display_data"
    }
   ],
   "source": [
    "myw, myp = entropy_split(it_ar, tar_ar,0)"
   ]
  },
  {
   "cell_type": "code",
   "execution_count": 49,
   "metadata": {},
   "outputs": [],
   "source": [
    "def my_entropy(proportions):\n",
    "    \n",
    "    log_2_proportions = np.log2(proportions)\n",
    "    return -proportions.dot(log_2_proportions)\n",
    "\n"
   ]
  },
  {
   "cell_type": "code",
   "execution_count": 22,
   "metadata": {},
   "outputs": [],
   "source": [
    "def entropy_split(data, target, feature, debug=True):\n",
    "    \n",
    "    unique_classes, class_counts = np.unique(data[:,feature], return_counts=True)\n",
    "    \n",
    "    target_subsets = [\n",
    "        target[data[:,feature] == unique_class]\n",
    "        for unique_class in unique_classes]\n",
    "\n",
    "    if debug: display(target_subsets)\n",
    "        \n",
    "    total = target.shape[0]\n",
    "    weights = [class_count / total for class_count in class_counts]\n",
    "    \n",
    "    if debug: display(weights)\n",
    "        \n",
    "    proportions = get_class_proportions(target_subsets)\n",
    "    \n",
    "    if debug: display(proportions)\n",
    "        \n",
    "#     entropies = my_entropy(proportions)\n",
    "    \n",
    "    return weights, proportions\n",
    "\n",
    "    '''proportions = [\n",
    "        get_class_proportions(target_subset)\n",
    "        for target_subset in target_subsets\n",
    "    ]\n",
    "    \n",
    "    if debug:\n",
    "        display(proportions)\n",
    "    '''"
   ]
  },
  {
   "cell_type": "code",
   "execution_count": 7,
   "metadata": {},
   "outputs": [],
   "source": [
    "def class_proportions(target):\n",
    "        \n",
    "    total_count = target.count()\n",
    "    class_count = target.value_counts()\n",
    "    \n",
    "    return class_count / total_count\n",
    "\n",
    "\n",
    "def entropy(proportions):\n",
    "    proportions = np.array(proportions)\n",
    "    log_2_proportions = np.log2(proportions)\n",
    "    return -proportions.dot(log_2_proportions)\n",
    "\n",
    "\n",
    "def entropy_on_split(dataframe, target, feature, debug=False):\n",
    "    \n",
    "    # split on feature\n",
    "    unique_classes = dataframe[feature].unique()\n",
    "    \n",
    "    target_subsets = [\n",
    "        target[dataframe[feature] == unique_class]\n",
    "        for unique_class in unique_classes]\n",
    "    \n",
    "    if debug:\n",
    "        display(target_subsets)\n",
    "        \n",
    "    # calculate subset weights\n",
    "    total = target.count()\n",
    "    weights = [\n",
    "        target_subset.count()/total\n",
    "        for target_subset in target_subsets\n",
    "    ]\n",
    "    if debug:\n",
    "        display(weights)\n",
    "        \n",
    "    # calculate target proprotions\n",
    "    proportions = [\n",
    "        class_proportions(target_subset)\n",
    "        for target_subset in target_subsets\n",
    "    ]\n",
    "    if debug: display(proportions)\n",
    "        \n",
    "    # calculate the entropies\n",
    "    entropies = [\n",
    "        entropy(proportion)\n",
    "        for proportion in proportions\n",
    "    ]\n",
    "    weighted_entropies = [\n",
    "        weight*entropy\n",
    "        for weight, entropy in zip(weights,entropies)\n",
    "    ]\n",
    "    return proportions, entropies, weighted_entropies\n",
    "\n",
    "def classify(tree, element):\n",
    "    if tree in [True, False]:\n",
    "        return tree\n",
    "    \n",
    "    # if tuple defining a subtree dictionary \n",
    "    # attribute defines the split\n",
    "    # subtree dictionary defines the subtrees created by that split\n",
    "    attribute, subtree_dictionary = tree\n",
    "    \n",
    "    # get the attribute from the element associated with that split\n",
    "    subtree_key = element.get(attribute)\n",
    "    \n",
    "    if subtree_key not in subtree_dictionary:\n",
    "        subtree_key = None\n",
    "    \n",
    "    #get the subtree associated with the key \n",
    "    subtree = subtree_dictionary[subtree_key]\n",
    "    \n",
    "    return classify(subtree, element)\n",
    "\n",
    "\n",
    "def find_best_split(features, target):\n",
    "    feature_labels = features.columns\n",
    "    entropies = [\n",
    "        entropy_on_split(features, target, feature_label)\n",
    "        for feature_label in feature_labels\n",
    "    ]\n",
    "    \n",
    "    best_index = np.argmin(entropies)\n",
    "    return feature_labels[best_index]\n",
    "\n",
    "\n",
    "def build_tree(features, target, split_candidates=None):\n",
    "    #handle the case for split_candidates is None\n",
    "    if split_candidates is None:\n",
    "        split_candidates = list(features.columns)\n",
    "        \n",
    "    total_count = target.count()\n",
    "    true_count = target.sum()\n",
    "    false_count = total_count - true_count\n",
    "    \n",
    "    if false_count == 0: return True\n",
    "    if true_count == 0: return False\n",
    "    \n",
    "    if split_candidates == []:\n",
    "        return true_count > false_count\n",
    "    \n",
    "    # find the best attribute to split upon\n",
    "    best_attribute = find_best_split(features, target, split_candidates)\n",
    "    \n",
    "    # remove best attribute from list of split candidates\n",
    "    split_candidates = [split_candidate\n",
    "                       for split_candidate in split_candidates\n",
    "                       if split_candidate is not best_attribute]\n",
    "    \n",
    "    best_attribute_uniques = features[best_attribute].unique()\n",
    "    \n",
    "    subtree_dictionary = dict()\n",
    "    \n",
    "    for best_attribute_unique in best_attribute_uniques:\n",
    "        feat_subset_mask = features[best_attribute] == best_attribute_unique\n",
    "        feat_subset = features[feat_subset_mask]\n",
    "        target_subset = target[feat_subset_mask]\n",
    "        \n",
    "        subtree_dictionary[best_attribute_unique] = \\\n",
    "            build_tree(feat_subset, target_subset, split_candidates)\n",
    "            \n",
    "    subtree_dictionary[None] = true_count > false_count\n",
    "        \n",
    "    return(best_attribute, subtree_dictionary)\n",
    "    \n",
    "            "
   ]
  },
  {
   "cell_type": "code",
   "execution_count": 21,
   "metadata": {},
   "outputs": [],
   "source": [
    "def get_class_proportions(target):\n",
    "    \n",
    "    prop = []\n",
    "    \n",
    "    for i in range(len(target)):\n",
    "        prob_true = (np.sum(target[i] / len(target[i])))\n",
    "        prob_false = 1 - prob_true\n",
    "        prob = [prob_true, prob_false]\n",
    "        \n",
    "        prop.append(prob)\n",
    "            \n",
    "    return np.array(prop)\n"
   ]
  },
  {
   "cell_type": "code",
   "execution_count": null,
   "metadata": {},
   "outputs": [],
   "source": []
  },
  {
   "cell_type": "code",
   "execution_count": null,
   "metadata": {},
   "outputs": [],
   "source": []
  },
  {
   "cell_type": "code",
   "execution_count": null,
   "metadata": {},
   "outputs": [],
   "source": [
    "fig = plt.figure(figsize=(10,8))\n",
    "plt.scatter(X,y)\n",
    "plt.xlabel('X', fontsize = 20)\n",
    "plt.ylabel('y', fontsize = 20)\n",
    "plt.title('Our Regression Model with Residuals!', fontsize=30)\n",
    "plt.xlim((0,22))\n",
    "plt.ylim((0,120))\n",
    "plt.plot(X,y_pred, c='r', label='Our Linear Model!')\n",
    "for xx, yy, yp in zip(X, y, y_pred):\n",
    "    plt.plot([xx,xx],[yy,yp], c='g')\n",
    "plt.show()"
   ]
  },
  {
   "cell_type": "code",
   "execution_count": null,
   "metadata": {},
   "outputs": [],
   "source": [
    "def build_kdtree(points, depth = 0):\n",
    "    n = len(points)\n",
    "    \n",
    "    if n = 0:\n",
    "        raise ValueError(\"Data set must have a length greater than 0\")\n",
    "    \n",
    "    axis = depth % k \n",
    "    sorted_points = sorted(points, key=lambda point: point[axis])\n",
    "    \n",
    "    return { \n",
    "    'point': sorted_points[n / 2 ]\n",
    "    'left': build_kdtree(sorted_points[:n / 2], depth +1)}"
   ]
  }
 ],
 "metadata": {
  "kernelspec": {
   "display_name": "Python 3",
   "language": "python",
   "name": "python3"
  },
  "language_info": {
   "codemirror_mode": {
    "name": "ipython",
    "version": 3
   },
   "file_extension": ".py",
   "mimetype": "text/x-python",
   "name": "python",
   "nbconvert_exporter": "python",
   "pygments_lexer": "ipython3",
   "version": "3.6.2"
  }
 },
 "nbformat": 4,
 "nbformat_minor": 2
}
