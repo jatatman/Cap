{
 "cells": [
  {
   "cell_type": "code",
   "execution_count": 6,
   "metadata": {},
   "outputs": [],
   "source": [
    "% run items.py\n",
    "import pandas as pd \n",
    "import numpy as np"
   ]
  },
  {
   "cell_type": "code",
   "execution_count": 7,
   "metadata": {},
   "outputs": [],
   "source": [
    "t = [{'form': 'triangle', 'letter': 'E', 'color': 'blue', 'border': False},\n",
    "    {'form': 'diamond', 'letter': 'A', 'color': 'blue', 'border': True},\n",
    "    {'form': 'circle', 'letter': 'B', 'color': 'green', 'border': False},\n",
    "    {'form': 'square', 'letter': 'E', 'color': 'red', 'border': True},\n",
    "    \n",
    "    {'form': 'diamond', 'letter': 'E', 'color': 'red', 'border': True},\n",
    "    {'form': 'triangle', 'letter': 'C', 'color': 'blue', 'border': False},\n",
    "    {'form': 'square', 'letter': 'A', 'color': 'green', 'border': False},\n",
    "    {'form': 'diamond', 'letter': 'D', 'color': 'red', 'border': True},\n",
    "    \n",
    "    {'form': 'star', 'letter': 'C', 'color': 'silver', 'border': True},\n",
    "    {'form': 'circle', 'letter': 'C', 'color': 'green', 'border': False},\n",
    "    {'form': 'triangle', 'letter': 'B', 'color': 'green', 'border': False},\n",
    "    {'form': 'circle', 'letter': 'A', 'color': 'red', 'border': True},\n",
    "    \n",
    "    {'form': 'square', 'letter': 'A', 'color': 'green', 'border': False},\n",
    "    {'form': 'square', 'letter': 'D', 'color': 'red', 'border': True},\n",
    "    {'form': 'star', 'letter': 'B', 'color': 'blue', 'border': True},\n",
    "    {'form': 'circle', 'letter': 'B', 'color': 'blue', 'border': True},\n",
    "    \n",
    "    {'form': 'triangle', 'letter': 'E', 'color': 'purple', 'border': False},\n",
    "    {'form': 'diamond', 'letter': 'E', 'color': 'red', 'border': True},\n",
    "    {'form': 'star', 'letter': 'B', 'color': 'blue', 'border': True},\n",
    "    {'form': 'triangle', 'letter': 'C', 'color': 'purple', 'border': False},\n",
    "    {'form': 'square', 'letter': 'C', 'color': 'silver', 'border': False}]"
   ]
  },
  {
   "cell_type": "code",
   "execution_count": 8,
   "metadata": {},
   "outputs": [],
   "source": [
    "t_df = pd.DataFrame(t)\n",
    "\n",
    "test = t_df.drop('border', axis=1)\n",
    "test_tar = t_df['border']"
   ]
  },
  {
   "cell_type": "code",
   "execution_count": 9,
   "metadata": {
    "scrolled": true
   },
   "outputs": [
    {
     "data": {
      "text/html": [
       "<div>\n",
       "<table border=\"1\" class=\"dataframe\">\n",
       "  <thead>\n",
       "    <tr style=\"text-align: right;\">\n",
       "      <th></th>\n",
       "      <th>border</th>\n",
       "      <th>color</th>\n",
       "      <th>form</th>\n",
       "      <th>letter</th>\n",
       "    </tr>\n",
       "  </thead>\n",
       "  <tbody>\n",
       "    <tr>\n",
       "      <th>0</th>\n",
       "      <td>False</td>\n",
       "      <td>blue</td>\n",
       "      <td>square</td>\n",
       "      <td>E</td>\n",
       "    </tr>\n",
       "    <tr>\n",
       "      <th>1</th>\n",
       "      <td>True</td>\n",
       "      <td>red</td>\n",
       "      <td>circle</td>\n",
       "      <td>A</td>\n",
       "    </tr>\n",
       "    <tr>\n",
       "      <th>2</th>\n",
       "      <td>False</td>\n",
       "      <td>green</td>\n",
       "      <td>circle</td>\n",
       "      <td>B</td>\n",
       "    </tr>\n",
       "    <tr>\n",
       "      <th>3</th>\n",
       "      <td>True</td>\n",
       "      <td>red</td>\n",
       "      <td>diamond</td>\n",
       "      <td>E</td>\n",
       "    </tr>\n",
       "    <tr>\n",
       "      <th>4</th>\n",
       "      <td>True</td>\n",
       "      <td>red</td>\n",
       "      <td>diamond</td>\n",
       "      <td>E</td>\n",
       "    </tr>\n",
       "    <tr>\n",
       "      <th>5</th>\n",
       "      <td>False</td>\n",
       "      <td>blue</td>\n",
       "      <td>diamond</td>\n",
       "      <td>C</td>\n",
       "    </tr>\n",
       "    <tr>\n",
       "      <th>6</th>\n",
       "      <td>False</td>\n",
       "      <td>green</td>\n",
       "      <td>square</td>\n",
       "      <td>A</td>\n",
       "    </tr>\n",
       "    <tr>\n",
       "      <th>7</th>\n",
       "      <td>True</td>\n",
       "      <td>green</td>\n",
       "      <td>diamond</td>\n",
       "      <td>D</td>\n",
       "    </tr>\n",
       "    <tr>\n",
       "      <th>8</th>\n",
       "      <td>True</td>\n",
       "      <td>silver</td>\n",
       "      <td>star</td>\n",
       "      <td>C</td>\n",
       "    </tr>\n",
       "    <tr>\n",
       "      <th>9</th>\n",
       "      <td>False</td>\n",
       "      <td>silver</td>\n",
       "      <td>square</td>\n",
       "      <td>C</td>\n",
       "    </tr>\n",
       "    <tr>\n",
       "      <th>10</th>\n",
       "      <td>False</td>\n",
       "      <td>green</td>\n",
       "      <td>circle</td>\n",
       "      <td>B</td>\n",
       "    </tr>\n",
       "    <tr>\n",
       "      <th>11</th>\n",
       "      <td>True</td>\n",
       "      <td>red</td>\n",
       "      <td>circle</td>\n",
       "      <td>A</td>\n",
       "    </tr>\n",
       "    <tr>\n",
       "      <th>12</th>\n",
       "      <td>False</td>\n",
       "      <td>green</td>\n",
       "      <td>square</td>\n",
       "      <td>A</td>\n",
       "    </tr>\n",
       "    <tr>\n",
       "      <th>13</th>\n",
       "      <td>True</td>\n",
       "      <td>green</td>\n",
       "      <td>circle</td>\n",
       "      <td>D</td>\n",
       "    </tr>\n",
       "    <tr>\n",
       "      <th>14</th>\n",
       "      <td>True</td>\n",
       "      <td>blue</td>\n",
       "      <td>star</td>\n",
       "      <td>B</td>\n",
       "    </tr>\n",
       "    <tr>\n",
       "      <th>15</th>\n",
       "      <td>True</td>\n",
       "      <td>blue</td>\n",
       "      <td>circle</td>\n",
       "      <td>B</td>\n",
       "    </tr>\n",
       "    <tr>\n",
       "      <th>16</th>\n",
       "      <td>False</td>\n",
       "      <td>blue</td>\n",
       "      <td>square</td>\n",
       "      <td>E</td>\n",
       "    </tr>\n",
       "    <tr>\n",
       "      <th>17</th>\n",
       "      <td>True</td>\n",
       "      <td>red</td>\n",
       "      <td>diamond</td>\n",
       "      <td>E</td>\n",
       "    </tr>\n",
       "    <tr>\n",
       "      <th>18</th>\n",
       "      <td>True</td>\n",
       "      <td>blue</td>\n",
       "      <td>star</td>\n",
       "      <td>B</td>\n",
       "    </tr>\n",
       "    <tr>\n",
       "      <th>19</th>\n",
       "      <td>False</td>\n",
       "      <td>purple</td>\n",
       "      <td>square</td>\n",
       "      <td>C</td>\n",
       "    </tr>\n",
       "    <tr>\n",
       "      <th>20</th>\n",
       "      <td>False</td>\n",
       "      <td>silver</td>\n",
       "      <td>square</td>\n",
       "      <td>C</td>\n",
       "    </tr>\n",
       "  </tbody>\n",
       "</table>\n",
       "</div>"
      ],
      "text/plain": [
       "   border   color     form letter\n",
       "0   False    blue   square      E\n",
       "1    True     red   circle      A\n",
       "2   False   green   circle      B\n",
       "3    True     red  diamond      E\n",
       "4    True     red  diamond      E\n",
       "5   False    blue  diamond      C\n",
       "6   False   green   square      A\n",
       "7    True   green  diamond      D\n",
       "8    True  silver     star      C\n",
       "9   False  silver   square      C\n",
       "10  False   green   circle      B\n",
       "11   True     red   circle      A\n",
       "12  False   green   square      A\n",
       "13   True   green   circle      D\n",
       "14   True    blue     star      B\n",
       "15   True    blue   circle      B\n",
       "16  False    blue   square      E\n",
       "17   True     red  diamond      E\n",
       "18   True    blue     star      B\n",
       "19  False  purple   square      C\n",
       "20  False  silver   square      C"
      ]
     },
     "execution_count": 9,
     "metadata": {},
     "output_type": "execute_result"
    }
   ],
   "source": [
    "items_df = pd.DataFrame(items)\n",
    "items_df"
   ]
  },
  {
   "cell_type": "code",
   "execution_count": 10,
   "metadata": {},
   "outputs": [],
   "source": [
    "it = items_df.drop('border', axis=1)\n",
    "tar = items_df['border']"
   ]
  },
  {
   "cell_type": "code",
   "execution_count": 11,
   "metadata": {},
   "outputs": [],
   "source": [
    "it_ar = np.array(items_df.drop('border', axis=1))\n",
    "tar_ar = np.array(items_df['border'])"
   ]
  },
  {
   "cell_type": "code",
   "execution_count": 5,
   "metadata": {},
   "outputs": [],
   "source": [
    "cols = np.array((it.columns))"
   ]
  },
  {
   "cell_type": "code",
   "execution_count": null,
   "metadata": {},
   "outputs": [],
   "source": [
    "tree = tree_builder_numpy(it_ar, tar_ar)"
   ]
  },
  {
   "cell_type": "code",
   "execution_count": null,
   "metadata": {},
   "outputs": [],
   "source": [
    "b"
   ]
  },
  {
   "cell_type": "code",
   "execution_count": null,
   "metadata": {},
   "outputs": [],
   "source": [
    "split_candidates = np.array(it.columns)"
   ]
  },
  {
   "cell_type": "code",
   "execution_count": null,
   "metadata": {},
   "outputs": [],
   "source": [
    "scs = split_candidates"
   ]
  },
  {
   "cell_type": "code",
   "execution_count": 14,
   "metadata": {},
   "outputs": [
    {
     "data": {
      "text/plain": [
       "('form',\n",
       " {None: True,\n",
       "  'circle': ('color',\n",
       "   {None: True,\n",
       "    'blue': True,\n",
       "    'green': ('letter', {'B': False, 'D': True, None: False}),\n",
       "    'red': True}),\n",
       "  'diamond': ('color',\n",
       "   {None: True, 'blue': False, 'green': True, 'red': True}),\n",
       "  'square': False,\n",
       "  'star': True})"
      ]
     },
     "execution_count": 14,
     "metadata": {},
     "output_type": "execute_result"
    }
   ],
   "source": [
    "\n",
    "build_tree_alt(it, tar)"
   ]
  },
  {
   "cell_type": "code",
   "execution_count": 17,
   "metadata": {},
   "outputs": [
    {
     "ename": "NameError",
     "evalue": "name 'find_best_split' is not defined",
     "output_type": "error",
     "traceback": [
      "\u001b[0;31m---------------------------------------------------------------------------\u001b[0m",
      "\u001b[0;31mNameError\u001b[0m                                 Traceback (most recent call last)",
      "\u001b[0;32m<ipython-input-17-c7be2c70c0bc>\u001b[0m in \u001b[0;36m<module>\u001b[0;34m()\u001b[0m\n\u001b[0;32m----> 1\u001b[0;31m \u001b[0mtree_builder\u001b[0m\u001b[0;34m(\u001b[0m\u001b[0mit_ar\u001b[0m\u001b[0;34m,\u001b[0m \u001b[0mtar\u001b[0m\u001b[0;34m)\u001b[0m\u001b[0;34m\u001b[0m\u001b[0m\n\u001b[0m",
      "\u001b[0;32m<ipython-input-16-8cf929dec2ef>\u001b[0m in \u001b[0;36mtree_builder\u001b[0;34m(data, target, split_candidates)\u001b[0m\n\u001b[1;32m     16\u001b[0m         \u001b[0;32mreturn\u001b[0m \u001b[0mtrue_count\u001b[0m \u001b[0;34m>\u001b[0m \u001b[0mfalse_count\u001b[0m\u001b[0;34m\u001b[0m\u001b[0m\n\u001b[1;32m     17\u001b[0m \u001b[0;34m\u001b[0m\u001b[0m\n\u001b[0;32m---> 18\u001b[0;31m     \u001b[0mbest_split\u001b[0m \u001b[0;34m=\u001b[0m \u001b[0mfind_best_split\u001b[0m\u001b[0;34m(\u001b[0m\u001b[0mdata\u001b[0m\u001b[0;34m,\u001b[0m \u001b[0mtarget\u001b[0m\u001b[0;34m,\u001b[0m \u001b[0msplit_candidates\u001b[0m\u001b[0;34m)\u001b[0m\u001b[0;34m\u001b[0m\u001b[0m\n\u001b[0m\u001b[1;32m     19\u001b[0m \u001b[0;34m\u001b[0m\u001b[0m\n\u001b[1;32m     20\u001b[0m     \u001b[0msplit_candidates\u001b[0m \u001b[0;34m=\u001b[0m \u001b[0mnp\u001b[0m\u001b[0;34m.\u001b[0m\u001b[0marray\u001b[0m\u001b[0;34m(\u001b[0m\u001b[0;34m[\u001b[0m\u001b[0msplit_candidate\u001b[0m \u001b[0;32mfor\u001b[0m \u001b[0msplit_candidate\u001b[0m \u001b[0;32min\u001b[0m \u001b[0msplit_candidates\u001b[0m \u001b[0;32mif\u001b[0m \u001b[0msplit_candidate\u001b[0m \u001b[0;34m!=\u001b[0m \u001b[0mbest_split\u001b[0m\u001b[0;34m]\u001b[0m\u001b[0;34m)\u001b[0m\u001b[0;34m\u001b[0m\u001b[0m\n",
      "\u001b[0;31mNameError\u001b[0m: name 'find_best_split' is not defined"
     ]
    }
   ],
   "source": [
    "tree_builder(it_ar, tar)"
   ]
  },
  {
   "cell_type": "code",
   "execution_count": null,
   "metadata": {},
   "outputs": [],
   "source": [
    "b"
   ]
  },
  {
   "cell_type": "code",
   "execution_count": 16,
   "metadata": {},
   "outputs": [],
   "source": [
    "def tree_builder(data, target, split_candidates=None):\n",
    "    scs = ['color', 'form', 'letter']\n",
    "    if split_candidates is None:\n",
    "        split_candidates = np.array([i for i in range(data.shape[1])])\n",
    "        \n",
    "    total_count = target.shape[0]\n",
    "    true_count = target.sum()\n",
    "    false_count = total_count - true_count \n",
    "    \n",
    "    if true_count == 0:\n",
    "        return False\n",
    "    elif false_count == 0:\n",
    "        return True\n",
    "\n",
    "    if split_candidates.shape[0] == 0:\n",
    "        return true_count > false_count\n",
    "\n",
    "    best_split = find_best_split(data, target, split_candidates)\n",
    "    \n",
    "    split_candidates = np.array([split_candidate for split_candidate in split_candidates if split_candidate != best_split])\n",
    " \n",
    "    nodes = np.unique(data[:, best_split])\n",
    "    subtree_dict = dict()\n",
    "    \n",
    "    for node in nodes:\n",
    "        sub_mask = data[:, best_split] == node\n",
    "        data_sub = data[sub_mask]\n",
    "        tar_sub = target[sub_mask]\n",
    "        \n",
    "        subtree_dict[node] = tree_builder(data_sub, tar_sub, split_candidates)\n",
    "    \n",
    "    subtree_dict[None] = true_count > false_count\n",
    "    \n",
    "    return(scs[best_split], subtree_dict)         "
   ]
  },
  {
   "cell_type": "code",
   "execution_count": null,
   "metadata": {},
   "outputs": [],
   "source": [
    "def tree_builder(data, target,split_candidates):\n",
    "    \n",
    "    # needs changed \n",
    "    split_count = len(split_candidates)\n",
    "    \n",
    "    total_count = target.shape[0]\n",
    "    true_count = target.sum()\n",
    "    false_count = total_count - true_count\n",
    "\n",
    "    \n",
    "    if len(split_candidates) == 0:\n",
    "        return true_count > false_count\n",
    "        print('done')\n",
    "    \n",
    "    best_split_indx = find_best_split(data, target)\n",
    "    \n",
    "    best_split = split_candidates[best_split_indx]\n",
    "    \n",
    "    print('best split: {} \\n'.format(best_split))\n",
    "    \n",
    "    if true_count == 0: return False\n",
    "    if false_count == 0: return True\n",
    "    \n",
    "    # removes best_split from split _candidates\n",
    "    split_candidates = [split_candidate\n",
    "                    for split_candidate in split_candidates\n",
    "                    if split_candidate != best_split]\n",
    "    \n",
    "    nodes = np.unique(data[:,best_split_indx])\n",
    "    \n",
    "    \n",
    "    subtree_dict = dict()\n",
    "    \n",
    "    for node in nodes:\n",
    "        sub_mask = data[:,best_split_indx] == node\n",
    "        data_sub = data[sub_mask]\n",
    "        tar_sub = target[sub_mask]\n",
    "        \n",
    "        subtree_dict[node] = tree_builder(data_sub, tar_sub, split_candidates)\n",
    "    \n",
    "    subtree_dict[None] = true_count > false_count\n",
    "        \n",
    "    return(best_split, subtree_dict)\n",
    "    "
   ]
  },
  {
   "cell_type": "code",
   "execution_count": 35,
   "metadata": {},
   "outputs": [],
   "source": [
    "\n",
    "def classify(tree, element):\n",
    "    \n",
    "    if tree in [True, False]:\n",
    "        return tree\n",
    "    \n",
    "    # if tuple defining a subtree dictionary\n",
    "    # attribute defines the split\n",
    "    # subtree dictionary defines the subtrees created by that split\n",
    "    attribute, subtree_dictionary = tree\n",
    "    \n",
    "    # get the attribute from the element associted with that split\n",
    "    subtree_key = element.get(attribute)\n",
    "    \n",
    "    if subtree_key not in subtree_dictionary:\n",
    "        subtree_key = None\n",
    "    \n",
    "    # get the subtree associated with the key\n",
    "    subtree = subtree_dictionary[subtree_key]\n",
    "    \n",
    "    return classify(subtree, element)"
   ]
  },
  {
   "cell_type": "code",
   "execution_count": 53,
   "metadata": {},
   "outputs": [],
   "source": [
    "def class_proportions_alt(target):\n",
    "    \n",
    "    total_count = target.count()\n",
    "    class_count = target.value_counts()\n",
    "    return class_count / total_count\n",
    "\n",
    "def target_proportions_alt(target):\n",
    "        \n",
    "    total_count = target.shape[0]\n",
    "    class_count = np.bincount(target)\n",
    "    \n",
    "    return class_count / total_count\n",
    "\n",
    "\n",
    "def entropy_alt(proportions):\n",
    "    proportions = np.array(proportions)\n",
    "    log_2_proportions = np.log2(proportions)\n",
    "    return -proportions.dot(log_2_proportions)\n",
    "\n",
    "\n",
    "def entropy_on_split_alt(dataframe, target, feature, debug=False):\n",
    "    \n",
    "    # split on feature\n",
    "    unique_classes = dataframe[feature].unique()\n",
    "    \n",
    "    target_subsets = [\n",
    "        target[dataframe[feature] == unique_class]\n",
    "        for unique_class in unique_classes]\n",
    "    \n",
    "    if debug:\n",
    "        print('Target Subsets:\\n{}\\n'.format(target_subsets))\n",
    "        \n",
    "    # calculate subset weights\n",
    "    total = target.count()\n",
    "    weights = [\n",
    "        target_subset.count()/total\n",
    "        for target_subset in target_subsets\n",
    "    ]\n",
    "    if debug:\n",
    "        print('Weights:\\n{}\\n'.format(weights))\n",
    "        \n",
    "    # calculate target proprotions\n",
    "    proportions = [\n",
    "        class_proportions_alt(target_subset)\n",
    "        for target_subset in target_subsets\n",
    "    ]\n",
    "    if debug: print('Proportions:\\n{}\\n'.format(proportions))\n",
    "        \n",
    "    # calculate the entropies\n",
    "    entropies = [\n",
    "        entropy_alt(proportion)\n",
    "        for proportion in proportions\n",
    "    ]\n",
    "    \n",
    "    if debug: print('Entropies:\\n{}\\n'.format(entropies))\n",
    "        \n",
    "    weighted_entropies = [\n",
    "        weight*entropy\n",
    "        for weight, entropy in zip(weights,entropies)\n",
    "    ]\n",
    "    return sum(weighted_entropies)\n",
    "\n",
    "def classify_alt(tree, element):\n",
    "    if tree in [True, False]:\n",
    "        return tree\n",
    "    \n",
    "    # if tuple defining a subtree dictionary \n",
    "    # attribute defines the split\n",
    "    # subtree dictionary defines the subtrees created by that split\n",
    "    attribute, subtree_dictionary = tree\n",
    "    \n",
    "    # get the attribute from the element associated with that split\n",
    "    subtree_key = element.get(attribute)\n",
    "    \n",
    "    if subtree_key not in subtree_dictionary:\n",
    "        subtree_key = None\n",
    "    \n",
    "    #get the subtree associated with the key \n",
    "    subtree = subtree_dictionary[subtree_key]\n",
    "    \n",
    "    return classify(subtree, element)\n",
    "\n",
    "\n",
    "def find_best_split_alt(features, target, split_candidates):\n",
    "    \n",
    "    entropies = [\n",
    "        entropy_on_split_alt(features, target, split_candidate)\n",
    "        for split_candidate in split_candidates\n",
    "    ]\n",
    "\n",
    "    best_index = np.argmin(entropies)\n",
    "    return split_candidates[best_index]\n",
    "\n",
    "\n",
    "def build_tree_alt(features, target, split_candidates=None):\n",
    "    #handle the case for split_candidates is None\n",
    "    \n",
    "    if split_candidates is None:\n",
    "        split_candidates = list(features.columns)\n",
    "        \n",
    "    total_count = target.count()\n",
    "    true_count = target.sum()\n",
    "    false_count = total_count - true_count\n",
    "    \n",
    "    if false_count == 0: return True\n",
    "    if true_count == 0: return False\n",
    "    \n",
    "    if split_candidates == []:\n",
    "        return true_count > false_count\n",
    "    \n",
    "    # find the best attribute to split upon\n",
    "    best_attribute = find_best_split_alt(features, target, split_candidates)\n",
    "\n",
    "    # remove best attribute from list of split candidates\n",
    "    split_candidates = [split_candidate\n",
    "                       for split_candidate in split_candidates\n",
    "                       if split_candidate is not best_attribute]\n",
    "    \n",
    "    best_attribute_uniques = features[best_attribute].unique()\n",
    "    \n",
    "    subtree_dictionary = dict()\n",
    "    \n",
    "    for best_attribute_unique in best_attribute_uniques:\n",
    "        feat_subset_mask = features[best_attribute] == best_attribute_unique\n",
    "        feat_subset = features[feat_subset_mask]\n",
    "        target_subset = target[feat_subset_mask]\n",
    "        \n",
    "        subtree_dictionary[best_attribute_unique] = \\\n",
    "            build_tree_alt(feat_subset, target_subset, split_candidates)\n",
    "            \n",
    "    subtree_dictionary[None] = true_count > false_count\n",
    "        \n",
    "    return(best_attribute, subtree_dictionary)\n",
    "    \n",
    "            "
   ]
  },
  {
   "cell_type": "code",
   "execution_count": 42,
   "metadata": {},
   "outputs": [
    {
     "data": {
      "text/plain": [
       "pandas.core.frame.DataFrame"
      ]
     },
     "execution_count": 42,
     "metadata": {},
     "output_type": "execute_result"
    }
   ],
   "source": [
    "type(it)"
   ]
  },
  {
   "cell_type": "code",
   "execution_count": 49,
   "metadata": {},
   "outputs": [],
   "source": [
    "def classify(tree, element):\n",
    "    if tree in [True, False]:\n",
    "        return tree\n",
    "    \n",
    "    # if tuple defining a subtree dictionary \n",
    "    # attribute defines the split\n",
    "    # subtree dictionary defines the subtrees created by that split\n",
    "    attribute, subtree_dictionary = tree\n",
    "    \n",
    "    # get the attribute from the element associated with that split\n",
    "    subtree_key = element.get(attribute)\n",
    "    \n",
    "    if subtree_key not in subtree_dictionary:\n",
    "        subtree_key = None\n",
    "    \n",
    "    #get the subtree associated with the key \n",
    "    subtree = subtree_dictionary[subtree_key]\n",
    "    \n",
    "    return classify(subtree, element)"
   ]
  },
  {
   "cell_type": "code",
   "execution_count": 19,
   "metadata": {},
   "outputs": [],
   "source": [
    "tree = build_tree_alt(it, tar)"
   ]
  },
  {
   "cell_type": "code",
   "execution_count": 54,
   "metadata": {},
   "outputs": [],
   "source": [
    "attribute, subtree_dictionary = tree"
   ]
  },
  {
   "cell_type": "code",
   "execution_count": 55,
   "metadata": {},
   "outputs": [
    {
     "data": {
      "text/plain": [
       "'form'"
      ]
     },
     "execution_count": 55,
     "metadata": {},
     "output_type": "execute_result"
    }
   ],
   "source": [
    "attribute"
   ]
  },
  {
   "cell_type": "code",
   "execution_count": 58,
   "metadata": {},
   "outputs": [
    {
     "data": {
      "text/plain": [
       "array(['blue', 'square', 'E'], dtype=object)"
      ]
     },
     "execution_count": 58,
     "metadata": {},
     "output_type": "execute_result"
    }
   ],
   "source": [
    "it_ar[0]"
   ]
  },
  {
   "cell_type": "code",
   "execution_count": 65,
   "metadata": {},
   "outputs": [],
   "source": [
    "element = it_ar[0]"
   ]
  },
  {
   "cell_type": "code",
   "execution_count": 62,
   "metadata": {},
   "outputs": [
    {
     "data": {
      "text/plain": [
       "['blue', 'square', 'E']"
      ]
     },
     "execution_count": 62,
     "metadata": {},
     "output_type": "execute_result"
    }
   ],
   "source": [
    "element"
   ]
  },
  {
   "cell_type": "code",
   "execution_count": 56,
   "metadata": {},
   "outputs": [
    {
     "data": {
      "text/plain": [
       "{None: True,\n",
       " 'circle': ('color',\n",
       "  {None: True,\n",
       "   'blue': True,\n",
       "   'green': ('letter', {'B': False, 'D': True, None: False}),\n",
       "   'red': True}),\n",
       " 'diamond': ('color', {None: True, 'blue': False, 'green': True, 'red': True}),\n",
       " 'square': False,\n",
       " 'star': True}"
      ]
     },
     "execution_count": 56,
     "metadata": {},
     "output_type": "execute_result"
    }
   ],
   "source": [
    "subtree_dictionary"
   ]
  },
  {
   "cell_type": "markdown",
   "metadata": {},
   "source": [
    "#### functions"
   ]
  },
  {
   "cell_type": "code",
   "execution_count": null,
   "metadata": {},
   "outputs": [],
   "source": [
    "def entropy(prob):\n",
    "    # replacing 0 values with 1 to avoid issues with np.log2 returning -inf\n",
    "    # will result in the same entropy\n",
    "    zero_mask = prob == 0\n",
    "    prob[zero_mask] = 1\n",
    "    \n",
    "    log_2_prob = np.log2(prob)\n",
    "    return -prob * log_2_prob"
   ]
  },
  {
   "cell_type": "code",
   "execution_count": null,
   "metadata": {},
   "outputs": [],
   "source": [
    "def entropy_split(data, target, feature, debug=False):\n",
    "    \n",
    "#   splitting data along a feature\n",
    "    unique_class, class_counts = np.unique(data[:,feature], return_counts=True)\n",
    "    \n",
    "    weights = class_counts/ target.shape[0]\n",
    "    \n",
    "    if debug: print('Weights\\n{}\\n'.format(weights))\n",
    "    # getting the split proportions\n",
    "    splits = [target[data[:,feature] == uc] for uc in unique_class]\n",
    "    \n",
    "    prob = np.empty((unique_class.shape[0],2))\n",
    "        \n",
    "    for i, split in enumerate(splits):\n",
    "\n",
    "        prob[i][0] = split.mean()\n",
    "        prob[i][1] = 1 - split.mean()\n",
    "\n",
    "    if debug: print('Probability\\n{}\\n'.format(prob))\n",
    "        \n",
    "    entropies = entropy(prob)\n",
    "    \n",
    "    if debug: print('entropies\\n{}\\n'.format(entropies))\n",
    "    \n",
    "    # transposing entropies shape so it can be multiplied with weights\n",
    "    w_ent = entropies.T * weights\n",
    "            \n",
    "    return w_ent.sum()"
   ]
  },
  {
   "cell_type": "code",
   "execution_count": null,
   "metadata": {},
   "outputs": [],
   "source": [
    "def find_best_split(data, target, split_candidates):\n",
    "    split_entropies = [entropy_split(data, target, split_candidate) for split_candidate in split_candidates]\n",
    "    \n",
    "    splt_ent = np.array(split_entropies)\n",
    "    sort_ent_indx = splt_ent.argsort()\n",
    "    best_ent_indx = sort_ent_indx[0]\n",
    "\n",
    "    return split_candidates[best_ent_indx]"
   ]
  },
  {
   "cell_type": "code",
   "execution_count": null,
   "metadata": {},
   "outputs": [],
   "source": [
    "entropies = entropy_split(it_ar, tar_ar,1,debug=True)\n",
    "entropies"
   ]
  },
  {
   "cell_type": "code",
   "execution_count": null,
   "metadata": {},
   "outputs": [],
   "source": [
    "# other"
   ]
  },
  {
   "cell_type": "code",
   "execution_count": null,
   "metadata": {},
   "outputs": [],
   "source": [
    "def find_best_split(data, target):\n",
    "    \n",
    "    split_entropies = []\n",
    "    \n",
    "    for i in range(data.shape[1]):\n",
    "        ent = entropy_split(data, target, i)\n",
    "        split_entropies.append(ent)\n",
    "    \n",
    "    splt_ent = np.array(split_entropies)\n",
    "    return splt_ent.argsort()\n",
    "\n",
    "def find_best_split(features, target, split_candidates):\n",
    "    entropies = [\n",
    "        entropy_on_split(features, target, split_candidate)\n",
    "        for split_candidate in split_candidates\n",
    "    ]\n",
    "    best_index = np.argmin(entropies)\n",
    "    return split_candidates[best_index]"
   ]
  },
  {
   "cell_type": "code",
   "execution_count": 58,
   "metadata": {},
   "outputs": [],
   "source": [
    "# this is what you need\n",
    "class DecisionTree():\n",
    "    \n",
    "    def entropy(self, prob):\n",
    "        '''\n",
    "        Determines the entropy of a split.\n",
    "        '''\n",
    "        # replacing - values with 1 to avoid issues with np.log2 returning - inf\n",
    "        # both 0 and 1 represent pure splits so the result will not change\n",
    "\n",
    "        zero_mask = prob == 0\n",
    "        prob[zero_mask] = 1\n",
    "\n",
    "        log_2_prob = np.log2(prob)\n",
    "        return -prob * log_2_prob\n",
    "\n",
    "    def entropy_split(self, data, target, feature, debug=False):\n",
    "    \n",
    "        # splitting the data along a feature\n",
    "        unique_class, class_counts = np.unique(data[:,feature], return_counts=True)\n",
    "    \n",
    "        weights = class_counts/ target.shape[0]\n",
    "    \n",
    "        if debug: print('Weights\\n{}\\n'.format(weights))\n",
    "            \n",
    "        # getting the split proportions\n",
    "        splits = [target[data[:,feature] == uc] for uc in unique_class]\n",
    "    \n",
    "        prob = np.empty((unique_class.shape[0],2))\n",
    "        \n",
    "        for i, split in enumerate(splits):\n",
    "\n",
    "            prob[i][0] = split.mean()\n",
    "            prob[i][1] = 1 - split.mean()\n",
    "\n",
    "        if debug: print('Probability\\n{}\\n'.format(prob))\n",
    "        \n",
    "        entropies = self.entropy(prob)\n",
    "    \n",
    "        if debug: print('entropies\\n{}\\n'.format(entropies))\n",
    "    \n",
    "        # transposing entropies shape so it can be multiplied with weights\n",
    "        w_ent = entropies.T * weights\n",
    "            \n",
    "        return w_ent.sum()\n",
    "    \n",
    "    def find_best_split(self, data, target, split_candidates):\n",
    "        split_entropies = [self.entropy_split(data, target, split_candidate) for split_candidate in split_candidates]\n",
    "    \n",
    "        splt_ent = np.array(split_entropies)\n",
    "        sort_ent_indx = splt_ent.argsort()\n",
    "        best_ent_indx = sort_ent_indx[0]\n",
    "\n",
    "        return split_candidates[best_ent_indx]\n",
    "\n",
    "    def tree_builder(self, data, target, split_candidates=None):\n",
    "        \n",
    "        if split_candidates is None:\n",
    "            split_candidates = np.array([i for i in range(data.shape[1])])\n",
    "        \n",
    "        total_count = target.shape[0]\n",
    "        true_count = target.sum()\n",
    "        \n",
    "        false_count = total_count - true_count \n",
    "    \n",
    "        if true_count == 0:\n",
    "            return False\n",
    "        elif false_count == 0:\n",
    "            return True\n",
    "\n",
    "        if split_candidates.shape[0] == 0:\n",
    "            return true_count > false_count\n",
    "\n",
    "        best_split = self.find_best_split(data, target, split_candidates)\n",
    "    \n",
    "        split_candidates = np.array([split_candidate for split_candidate in split_candidates if split_candidate != best_split])\n",
    " \n",
    "        nodes = np.unique(data[:, best_split])\n",
    "        subtree_dict = dict()\n",
    "    \n",
    "        for node in nodes:\n",
    "            sub_mask = data[:, best_split] == node\n",
    "            data_sub = data[sub_mask]\n",
    "            tar_sub = target[sub_mask]\n",
    "        \n",
    "            subtree_dict[node] = self.tree_builder(data_sub, tar_sub, split_candidates)\n",
    "    \n",
    "        subtree_dict[None] = true_count > false_count\n",
    "    \n",
    "        return(self.features[best_split], subtree_dict)\n",
    "\n",
    "    def fit(self, data, target):\n",
    "        \n",
    "        self.features = np.array(data.columns)\n",
    "        \n",
    "        data = np.array(data)\n",
    "        target = np.array(target)\n",
    "        \n",
    "        self.tree = self.tree_builder(data, target)\n",
    "    \n",
    "    def predict(self, tree, element):\n",
    "        if tree in [True, False]:\n",
    "            return tree\n",
    "    \n",
    "        node, branches = tree\n",
    "    \n",
    "        branch = element[node]\n",
    "    \n",
    "        if branch not in branches:\n",
    "            branch = None\n",
    "    \n",
    "        sub_tree = branches[branch]\n",
    "    \n",
    "        return self.predict(sub_tree, element)\n",
    "    \n",
    "    def score(self, data, target):\n",
    "        \n",
    "        self.tree_predictions = [self.predict(self.tree, data.iloc[i,:]) for i in range(data.shape[0])]\n",
    "\n",
    "        true_count = 0 \n",
    "        \n",
    "        for pred, actual in zip(self.tree_predictions, target):\n",
    "            if pred == actual:\n",
    "                true_count += 1\n",
    "        return true_count / len(self.tree_predictions)"
   ]
  },
  {
   "cell_type": "code",
   "execution_count": 59,
   "metadata": {},
   "outputs": [],
   "source": [
    "treebly = DecisionTree()"
   ]
  },
  {
   "cell_type": "code",
   "execution_count": 60,
   "metadata": {},
   "outputs": [],
   "source": [
    "treebly.fit(it, tar)"
   ]
  },
  {
   "cell_type": "code",
   "execution_count": 63,
   "metadata": {},
   "outputs": [
    {
     "name": "stdout",
     "output_type": "stream",
     "text": [
      "1.0\n",
      "0.6190476190476191\n"
     ]
    }
   ],
   "source": [
    "print(treebly.score(it, tar))\n",
    "print(treebly.score(test, test_tar))"
   ]
  },
  {
   "cell_type": "code",
   "execution_count": null,
   "metadata": {},
   "outputs": [],
   "source": []
  },
  {
   "cell_type": "code",
   "execution_count": 112,
   "metadata": {},
   "outputs": [],
   "source": [
    "def score(data, target):\n",
    "    \n",
    "    model_predictions = []\n",
    "    \n",
    "    for i in range(data.shape[0]):\n",
    "        model_predictions.append(predict(tree, data.iloc[i,:]))\n",
    "    \n",
    "    true_count = 0\n",
    "    \n",
    "    for pred, actual in zip(model_predictions, target):\n",
    "        if pred == actual:\n",
    "            true_count += 1\n",
    "    return true_count / len(model_predictions)"
   ]
  },
  {
   "cell_type": "code",
   "execution_count": 91,
   "metadata": {},
   "outputs": [],
   "source": [
    "def predict(tree,element):\n",
    "    if tree in [True, False]:\n",
    "        return tree\n",
    "    \n",
    "    node, branches = tree\n",
    "    \n",
    "    branch = element[node]\n",
    "    \n",
    "    if branch not in branches:\n",
    "        branch = None\n",
    "    \n",
    "    subtree = branches[branch]\n",
    "    \n",
    "    return predict(subtree, element)"
   ]
  }
 ],
 "metadata": {
  "kernelspec": {
   "display_name": "Python 3",
   "language": "python",
   "name": "python3"
  },
  "language_info": {
   "codemirror_mode": {
    "name": "ipython",
    "version": 3
   },
   "file_extension": ".py",
   "mimetype": "text/x-python",
   "name": "python",
   "nbconvert_exporter": "python",
   "pygments_lexer": "ipython3",
   "version": "3.6.3"
  }
 },
 "nbformat": 4,
 "nbformat_minor": 2
}
